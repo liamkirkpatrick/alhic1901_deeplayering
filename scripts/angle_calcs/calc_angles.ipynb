{
 "cells": [
  {
   "cell_type": "markdown",
   "metadata": {},
   "source": [
    "# Calculate Angles\n",
    "\n",
    "Calculate dip angles on all ALHIC1901 datasets"
   ]
  },
  {
   "cell_type": "markdown",
   "metadata": {},
   "source": [
    "## Setup"
   ]
  },
  {
   "cell_type": "code",
   "execution_count": 86,
   "metadata": {},
   "outputs": [],
   "source": [
    "# Load packages\n",
    "\n",
    "import os\n",
    "os.environ['MKL_SERVICE_FORCE_INTEL'] = '1'\n",
    "\n",
    "# general\n",
    "import numpy as np\n",
    "import matplotlib.pyplot as plt\n",
    "import pandas as pd\n",
    "from tqdm import tqdm\n",
    "\n",
    "# math\n",
    "from scipy.stats import pearsonr\n",
    "import math\n",
    "\n",
    "# my functions/classes\n",
    "import sys\n",
    "sys.path.append(\"../core_scripts/\")\n",
    "from ECMclass import ECM\n"
   ]
  },
  {
   "cell_type": "code",
   "execution_count": 94,
   "metadata": {},
   "outputs": [],
   "source": [
    "# Set filepaths\n",
    "\n",
    "path_to_data = '../../data/ecm/'\n",
    "path_to_angles = '../../data/angles/'\n",
    "path_to_figures = '../../../figures/angles/'"
   ]
  },
  {
   "cell_type": "code",
   "execution_count": 88,
   "metadata": {},
   "outputs": [],
   "source": [
    "# Set parameters\n",
    "\n",
    "# smoothing window\n",
    "window = 1\n",
    "\n",
    "# spacing of line that we interpolate onto\n",
    "interp_int = 0.0001\n",
    "\n",
    "# set angles to cycle through\n",
    "ang = 55\n",
    "ang_res = 5 #fraction of angle\n",
    "test_angle = np.linspace(-ang,ang,2*ang*ang_res+1)"
   ]
  },
  {
   "cell_type": "markdown",
   "metadata": {},
   "source": [
    "## Load Data"
   ]
  },
  {
   "cell_type": "code",
   "execution_count": 89,
   "metadata": {},
   "outputs": [
    {
     "data": {
      "text/html": [
       "<div>\n",
       "<style scoped>\n",
       "    .dataframe tbody tr th:only-of-type {\n",
       "        vertical-align: middle;\n",
       "    }\n",
       "\n",
       "    .dataframe tbody tr th {\n",
       "        vertical-align: top;\n",
       "    }\n",
       "\n",
       "    .dataframe thead th {\n",
       "        text-align: right;\n",
       "    }\n",
       "</style>\n",
       "<table border=\"1\" class=\"dataframe\">\n",
       "  <thead>\n",
       "    <tr style=\"text-align: right;\">\n",
       "      <th></th>\n",
       "      <th>core</th>\n",
       "      <th>time</th>\n",
       "      <th>section</th>\n",
       "      <th>face</th>\n",
       "      <th>ACorDC</th>\n",
       "      <th>Y_left</th>\n",
       "      <th>Y_right</th>\n",
       "      <th>AC_edgespace</th>\n",
       "      <th>DC_edgespace</th>\n",
       "    </tr>\n",
       "  </thead>\n",
       "  <tbody>\n",
       "    <tr>\n",
       "      <th>0</th>\n",
       "      <td>alhic1901</td>\n",
       "      <td>cmc1</td>\n",
       "      <td>230_4</td>\n",
       "      <td>t</td>\n",
       "      <td>DC</td>\n",
       "      <td>-5.080</td>\n",
       "      <td>206.763</td>\n",
       "      <td>15</td>\n",
       "      <td>10</td>\n",
       "    </tr>\n",
       "    <tr>\n",
       "      <th>1</th>\n",
       "      <td>alhic1901</td>\n",
       "      <td>cmc1</td>\n",
       "      <td>230_4</td>\n",
       "      <td>l</td>\n",
       "      <td>DC</td>\n",
       "      <td>70.404</td>\n",
       "      <td>170.096</td>\n",
       "      <td>15</td>\n",
       "      <td>10</td>\n",
       "    </tr>\n",
       "    <tr>\n",
       "      <th>2</th>\n",
       "      <td>alhic1901</td>\n",
       "      <td>cmc1</td>\n",
       "      <td>228_4</td>\n",
       "      <td>t</td>\n",
       "      <td>DC</td>\n",
       "      <td>-10.000</td>\n",
       "      <td>192.000</td>\n",
       "      <td>15</td>\n",
       "      <td>10</td>\n",
       "    </tr>\n",
       "    <tr>\n",
       "      <th>3</th>\n",
       "      <td>alhic1901</td>\n",
       "      <td>cmc1</td>\n",
       "      <td>228_4</td>\n",
       "      <td>l</td>\n",
       "      <td>AC</td>\n",
       "      <td>63.881</td>\n",
       "      <td>166.250</td>\n",
       "      <td>15</td>\n",
       "      <td>10</td>\n",
       "    </tr>\n",
       "    <tr>\n",
       "      <th>4</th>\n",
       "      <td>alhic1901</td>\n",
       "      <td>cmc1</td>\n",
       "      <td>228_4</td>\n",
       "      <td>l</td>\n",
       "      <td>DC</td>\n",
       "      <td>65.891</td>\n",
       "      <td>149.177</td>\n",
       "      <td>15</td>\n",
       "      <td>10</td>\n",
       "    </tr>\n",
       "  </tbody>\n",
       "</table>\n",
       "</div>"
      ],
      "text/plain": [
       "        core  time section face ACorDC  Y_left  Y_right  AC_edgespace  \\\n",
       "0  alhic1901  cmc1   230_4    t     DC  -5.080  206.763            15   \n",
       "1  alhic1901  cmc1   230_4    l     DC  70.404  170.096            15   \n",
       "2  alhic1901  cmc1   228_4    t     DC -10.000  192.000            15   \n",
       "3  alhic1901  cmc1   228_4    l     AC  63.881  166.250            15   \n",
       "4  alhic1901  cmc1   228_4    l     DC  65.891  149.177            15   \n",
       "\n",
       "   DC_edgespace  \n",
       "0            10  \n",
       "1            10  \n",
       "2            10  \n",
       "3            10  \n",
       "4            10  "
      ]
     },
     "execution_count": 89,
     "metadata": {},
     "output_type": "execute_result"
    }
   ],
   "source": [
    "# Load metadata\n",
    "meta = pd.read_csv(path_to_data + 'metadata.csv')\n",
    "meta.head()\n",
    "\n",
    "# for now, trim to just the first three rows\n",
    "#meta = meta.iloc[5:8]"
   ]
  },
  {
   "cell_type": "code",
   "execution_count": 90,
   "metadata": {},
   "outputs": [
    {
     "name": "stderr",
     "output_type": "stream",
     "text": [
      "Processing data:   8%|▊         | 1/13 [00:00<00:02,  5.79it/s]"
     ]
    },
    {
     "name": "stdout",
     "output_type": "stream",
     "text": [
      "Reading alhic1901, section 230_4-t-DC\n",
      "Reading alhic1901, section 230_4-l-DC\n"
     ]
    },
    {
     "name": "stderr",
     "output_type": "stream",
     "text": [
      "Processing data:  23%|██▎       | 3/13 [00:00<00:01,  8.18it/s]"
     ]
    },
    {
     "name": "stdout",
     "output_type": "stream",
     "text": [
      "Reading alhic1901, section 228_4-t-DC\n",
      "Reading alhic1901, section 228_4-l-AC\n"
     ]
    },
    {
     "name": "stderr",
     "output_type": "stream",
     "text": [
      "Processing data:  31%|███       | 4/13 [00:00<00:01,  7.80it/s]"
     ]
    },
    {
     "name": "stdout",
     "output_type": "stream",
     "text": [
      "Reading alhic1901, section 228_4-l-DC\n",
      "Reading alhic1901, section 230_4-l-AC\n"
     ]
    },
    {
     "name": "stderr",
     "output_type": "stream",
     "text": [
      "Processing data:  46%|████▌     | 6/13 [00:00<00:00,  8.32it/s]"
     ]
    },
    {
     "name": "stdout",
     "output_type": "stream",
     "text": [
      "Reading alhic1901, section 230_4-t-AC\n"
     ]
    },
    {
     "name": "stderr",
     "output_type": "stream",
     "text": [
      "Processing data:  69%|██████▉   | 9/13 [00:01<00:00,  5.34it/s]"
     ]
    },
    {
     "name": "stdout",
     "output_type": "stream",
     "text": [
      "Reading alhic1901, section 230_4-r-DC\n",
      "Reading alhic1901, section 230_4-r-AC\n"
     ]
    },
    {
     "name": "stderr",
     "output_type": "stream",
     "text": [
      "Processing data:  85%|████████▍ | 11/13 [00:01<00:00,  6.49it/s]"
     ]
    },
    {
     "name": "stdout",
     "output_type": "stream",
     "text": [
      "Reading alhic1901, section 228_4-r-DC\n",
      "Reading alhic1901, section 228_4-r-AC\n",
      "Reading alhic1901, section 228_4-o-AC\n"
     ]
    },
    {
     "name": "stderr",
     "output_type": "stream",
     "text": [
      "Processing data:  92%|█████████▏| 12/13 [00:02<00:00,  5.45it/s]"
     ]
    },
    {
     "name": "stdout",
     "output_type": "stream",
     "text": [
      "Reading alhic1901, section 228_4-t-AC\n"
     ]
    },
    {
     "name": "stderr",
     "output_type": "stream",
     "text": [
      "Processing data: 100%|██████████| 13/13 [00:02<00:00,  5.46it/s]\n"
     ]
    }
   ],
   "source": [
    "# Load ECM data\n",
    "\n",
    "data = []\n",
    "cores = []\n",
    "sections = []\n",
    "faces = []\n",
    "ACorDCs = []\n",
    "for index, row in tqdm(meta.iterrows(), total=len(meta), desc=\"Processing data\"):\n",
    "    \n",
    "    core = row['core']\n",
    "        \n",
    "    section = row['section']\n",
    "    face = row['face']\n",
    "    ACorDC = row['ACorDC']\n",
    "\n",
    "    data_item = ECM(core,section,face,ACorDC)\n",
    "    print(\"Reading \"+core+\", section \"+section+'-'+face+'-'+ACorDC)\n",
    "    \n",
    "    data_item.rem_ends(15)\n",
    "    data_item.smooth(window)\n",
    "    data.append(data_item)\n",
    "    data_item.norm_all()\n",
    "    \n",
    "    cores.append(core)\n",
    "    sections.append(section)\n",
    "    faces.append(face)\n",
    "    ACorDCs.append(ACorDC)\n",
    "\n",
    "\n"
   ]
  },
  {
   "cell_type": "markdown",
   "metadata": {},
   "source": [
    "## Preform Angle Calculations"
   ]
  },
  {
   "cell_type": "code",
   "execution_count": 91,
   "metadata": {},
   "outputs": [
    {
     "name": "stdout",
     "output_type": "stream",
     "text": [
      "Calculating Angle: alhic1901, section 230_4-t-DC\n",
      "    Mean Angle = 5.650000000000001\n",
      "    Mean Angles = [37.0, -4.399999999999999, -0.19999999999999574, -0.5999999999999943, -0.5999999999999943, 20.799999999999997, 0.8000000000000043, -22.799999999999997, 53.400000000000006, -8.0, 20.799999999999997, -10.199999999999996, -0.7999999999999972, -0.7999999999999972, 5.0, 10.200000000000003, -0.7999999999999972, 14.600000000000009, 0.6000000000000014, -1.0]\n",
      "Calculating Angle: alhic1901, section 230_4-l-DC\n",
      "    Mean Angle = 20.175000000000004\n",
      "    Mean Angles = [55.0, -19.0, -2.0, 38.60000000000001, 29.0, 27.0, 23.80000000000001, 9.0]\n",
      "Calculating Angle: alhic1901, section 228_4-t-DC\n",
      "    Mean Angle = -7.221052631578942\n",
      "    Mean Angles = [4.400000000000006, -4.399999999999999, -14.599999999999994, -3.5999999999999943, -2.1999999999999957, 1.4000000000000057, -0.7999999999999972, -15.199999999999996, -31.599999999999998, -12.799999999999997, -21.199999999999996, -14.199999999999996, -2.5999999999999943, -0.5999999999999943, -17.199999999999996, 0.0, -6.199999999999996, 0.8000000000000043, 3.4000000000000057]\n",
      "Calculating Angle: alhic1901, section 228_4-l-AC\n",
      "    Mean Angle = 8.000000000000002\n",
      "    Mean Angles = [5.800000000000004, 5.800000000000004, 5.0, 10.0, 5.800000000000004, 5.800000000000004, 10.0, 15.799999999999997]\n",
      "Calculating Angle: alhic1901, section 228_4-l-DC\n",
      "    Mean Angle = 1.3714285714285737\n",
      "    Mean Angles = [5.0, -0.3999999999999986, 2.6000000000000014, -1.1999999999999957, -2.0, 0.4000000000000057, 5.200000000000003]\n",
      "Calculating Angle: alhic1901, section 230_4-l-AC\n",
      "    Mean Angle = 26.333333333333332\n",
      "    Mean Angles = [26.0, 26.0, 26.0, 26.0, 26.0, 26.0, 26.0, 26.0, 29.0]\n",
      "Calculating Angle: alhic1901, section 230_4-t-AC\n",
      "    Mean Angle = 16.18604651162791\n",
      "    Mean Angles = [8.400000000000006, 28.80000000000001, 8.400000000000006, 8.400000000000006, 8.400000000000006, 28.80000000000001, 8.400000000000006, 8.400000000000006, 8.400000000000006, 8.400000000000006, 8.400000000000006, 23.80000000000001, 8.400000000000006, 8.400000000000006, 8.400000000000006, 8.400000000000006, 8.400000000000006, 8.400000000000006, 8.400000000000006, 8.400000000000006, 28.80000000000001, 8.400000000000006, 8.400000000000006, 54.80000000000001, 12.200000000000003, 8.400000000000006, 28.80000000000001, 8.400000000000006, 8.400000000000006, 8.400000000000006, 8.400000000000006, 28.0, 28.200000000000003, 8.400000000000006, 28.80000000000001, 28.80000000000001, 8.400000000000006, 8.400000000000006, 28.80000000000001, 28.80000000000001, 28.80000000000001, 28.80000000000001, 34.2]\n",
      "Calculating Angle: alhic1901, section 230_4-r-DC\n",
      "    Mean Angle = -4.199999999999997\n",
      "    Mean Angles = [-1.7999999999999972, 1.8000000000000043, -1.7999999999999972, -1.7999999999999972, 1.6000000000000014, 4.600000000000001, -45.8, 9.600000000000009]\n",
      "Calculating Angle: alhic1901, section 230_4-r-AC\n",
      "    Mean Angle = -22.775\n",
      "    Mean Angles = [-23.599999999999998, -23.599999999999998, -23.599999999999998, -23.599999999999998, -23.599999999999998, -23.599999999999998, -23.599999999999998, -17.0]\n",
      "Calculating Angle: alhic1901, section 228_4-r-DC\n",
      "    Mean Angle = 4.657142857142861\n",
      "    Mean Angles = [4.400000000000006, -0.7999999999999972, 11.400000000000006, 0.8000000000000043, 6.600000000000001, -8.199999999999996, 18.400000000000006]\n",
      "Calculating Angle: alhic1901, section 228_4-r-AC\n",
      "    Mean Angle = -4.8999999999999995\n",
      "    Mean Angles = [-8.0, -8.0, -8.0, -7.0, 1.6000000000000014, -8.0, -8.0, 6.200000000000003]\n",
      "Calculating Angle: alhic1901, section 228_4-o-AC\n",
      "    Mean Angle = 7.147368421052634\n",
      "    Mean Angles = [-0.3999999999999986, 6.0, 7.0, 17.0, 17.0, -2.0, 4.200000000000003, 10.600000000000009, 1.8000000000000043, 15.799999999999997, 26.80000000000001, 4.400000000000006, 6.0, 6.0, -4.0, 5.400000000000006, -0.3999999999999986, 6.0, 8.600000000000001]\n",
      "Calculating Angle: alhic1901, section 228_4-t-AC\n",
      "    Mean Angle = -15.9047619047619\n",
      "    Mean Angles = [-15.799999999999997, -4.799999999999997, -4.799999999999997, -4.799999999999997, -4.799999999999997, -15.799999999999997, -4.799999999999997, -25.799999999999997, -25.799999999999997, -25.799999999999997, -25.799999999999997, -34.4, -25.799999999999997, -25.799999999999997, -34.4, -34.4, -4.799999999999997, -4.799999999999997, -3.799999999999997, -3.5999999999999943, -3.3999999999999986]\n"
     ]
    }
   ],
   "source": [
    "angles = []\n",
    "scores = []\n",
    "lengths = []\n",
    "all_scores = []\n",
    "\n",
    "# loop through each data file\n",
    "for data_face in data:\n",
    "\n",
    "    # print summary\n",
    "    print(\"Calculating Angle: \"+data_face.core+ \n",
    "          \", section \"+data_face.section+ '-'+data_face.face+\n",
    "          '-'+data_face.ACorDC)\n",
    "    \n",
    "    \n",
    "\n",
    "    # make empty depth/angle\n",
    "    score_list = []\n",
    "    angle=[]\n",
    "    angle_depth=[]\n",
    "\n",
    "    # assign local variables\n",
    "    depth = data_face.depth_s\n",
    "    meas = data_face.meas_s\n",
    "    y_list = data_face.y_s\n",
    "    y_vec = data_face.y_vec\n",
    "\n",
    "    # make empty array to score all scores\n",
    "    all_score = np.zeros((len(test_angle),len(y_vec)-1))\n",
    "\n",
    "    # flip the depth, meas, and y_list vectors\n",
    "    depth = np.flip(depth)\n",
    "    meas = np.flip(meas)\n",
    "    y_list = np.flip(y_list)\n",
    "\n",
    "    # make empty list of angle and scores\n",
    "    angle_list = []\n",
    "    score_list = []\n",
    "    length_list = []\n",
    "\n",
    "    # loop through each pair of adjasent tracks\n",
    "    for i in range(len(y_vec)-1):\n",
    "\n",
    "        # get two y_values\n",
    "        y1 = y_vec[i]\n",
    "        y2 = y_vec[i+1]\n",
    "        y_space = abs(y2 - y1)\n",
    "\n",
    "        # pull out data for both tracks\n",
    "        idx1 = y_list == y1\n",
    "        idx2 = y_list == y2\n",
    "        meas1 = meas[idx1]\n",
    "        meas2 = meas[idx2]\n",
    "        depth1 = depth[idx1]\n",
    "        depth2 = depth[idx2]\n",
    "\n",
    "        run_score = []\n",
    "\n",
    "        # loop through each angle\n",
    "        a_cnt = 0\n",
    "        for a in test_angle:\n",
    "            \n",
    "            # caluclate the spacing between tracks\n",
    "            yspace = y1-y2\n",
    "\n",
    "            # calculate the change in depth at this slope\n",
    "            delta_depth = yspace/1000 * np.tan(a * np.pi/180) * 0.5\n",
    "\n",
    "            # calculate the new depth vectors\n",
    "            depth1_shifted = depth1 - delta_depth\n",
    "            depth2_shifted = depth2 + delta_depth\n",
    "\n",
    "            # Find the overlapping range between the two depth vectors\n",
    "            min_overlap = max(min(depth1_shifted), min(depth2_shifted))\n",
    "            max_overlap = min(max(depth1_shifted), max(depth2_shifted))\n",
    "\n",
    "            # Round to the nearest 1mm (0.001), rounding min up and max down\n",
    "            min_overlap_rounded = math.ceil(min_overlap * 1000) / 1000\n",
    "            max_overlap_rounded = math.floor(max_overlap * 1000) / 1000\n",
    "\n",
    "            # create new depth vector to interpolate onto\n",
    "            depth_vec = np.arange(min_overlap_rounded, max_overlap_rounded, interp_int)\n",
    "            length = max(depth_vec) - min(depth_vec)\n",
    "\n",
    "            # interpolate the two tracks onto the new depth vector\n",
    "            meas1_interp = np.interp(depth_vec, depth1_shifted, meas1)\n",
    "            meas2_interp = np.interp(depth_vec, depth2_shifted, meas2)\n",
    "\n",
    "            # calculate the correlation\n",
    "            corr, pval = pearsonr(meas1_interp, meas2_interp)\n",
    "\n",
    "            # caluclate the score\n",
    "            run_score.append(corr*length)\n",
    "\n",
    "            # save score in 2D array\n",
    "            all_score[a_cnt,i] = corr\n",
    "            a_cnt += 1\n",
    "\n",
    "        # find the best score and angle\n",
    "        best_score = max(run_score)\n",
    "        best_angle = test_angle[run_score.index(best_score)]\n",
    "\n",
    "        # append to the lists\n",
    "        angle_list.append(best_angle)\n",
    "        score_list.append(best_score)\n",
    "        \n",
    "\n",
    "    # Print rough stats\n",
    "    print(\"    Mean Angle = \"+str(np.mean(angle_list)))\n",
    "    print(\"    Mean Angles = \"+str(angle_list))\n",
    "        \n",
    "    # save the angles, corrs, and lengths\n",
    "    angles.append(angle_list)\n",
    "    scores.append(score_list)\n",
    "    lengths.append(length_list)      \n",
    "    all_scores.append(all_score)     "
   ]
  },
  {
   "cell_type": "code",
   "execution_count": 92,
   "metadata": {},
   "outputs": [
    {
     "data": {
      "text/html": [
       "<div>\n",
       "<style scoped>\n",
       "    .dataframe tbody tr th:only-of-type {\n",
       "        vertical-align: middle;\n",
       "    }\n",
       "\n",
       "    .dataframe tbody tr th {\n",
       "        vertical-align: top;\n",
       "    }\n",
       "\n",
       "    .dataframe thead th {\n",
       "        text-align: right;\n",
       "    }\n",
       "</style>\n",
       "<table border=\"1\" class=\"dataframe\">\n",
       "  <thead>\n",
       "    <tr style=\"text-align: right;\">\n",
       "      <th></th>\n",
       "      <th>core</th>\n",
       "      <th>time</th>\n",
       "      <th>section</th>\n",
       "      <th>face</th>\n",
       "      <th>ACorDC</th>\n",
       "      <th>angle</th>\n",
       "      <th>score</th>\n",
       "      <th>length</th>\n",
       "      <th>all_scores</th>\n",
       "    </tr>\n",
       "  </thead>\n",
       "  <tbody>\n",
       "    <tr>\n",
       "      <th>0</th>\n",
       "      <td>alhic1901</td>\n",
       "      <td>cmc1</td>\n",
       "      <td>230_4</td>\n",
       "      <td>t</td>\n",
       "      <td>DC</td>\n",
       "      <td>[37.0, -4.399999999999999, -0.1999999999999957...</td>\n",
       "      <td>[0.0744255528371454, 0.06784602099695096, 0.07...</td>\n",
       "      <td>[]</td>\n",
       "      <td>[[0.07711514905734641, -0.04004410152153174, -...</td>\n",
       "    </tr>\n",
       "    <tr>\n",
       "      <th>1</th>\n",
       "      <td>alhic1901</td>\n",
       "      <td>cmc1</td>\n",
       "      <td>230_4</td>\n",
       "      <td>l</td>\n",
       "      <td>DC</td>\n",
       "      <td>[55.0, -19.0, -2.0, 38.60000000000001, 29.0, 2...</td>\n",
       "      <td>[0.10215207000362973, 0.09886650471160678, 0.1...</td>\n",
       "      <td>[]</td>\n",
       "      <td>[[-0.12936020123921624, 0.5960439633189245, 0....</td>\n",
       "    </tr>\n",
       "    <tr>\n",
       "      <th>2</th>\n",
       "      <td>alhic1901</td>\n",
       "      <td>cmc1</td>\n",
       "      <td>228_4</td>\n",
       "      <td>t</td>\n",
       "      <td>DC</td>\n",
       "      <td>[4.400000000000006, -4.399999999999999, -14.59...</td>\n",
       "      <td>[0.126446898004823, 0.1312870232473385, 0.1293...</td>\n",
       "      <td>[]</td>\n",
       "      <td>[[0.7632054390728512, 0.7527185607123529, 0.83...</td>\n",
       "    </tr>\n",
       "    <tr>\n",
       "      <th>3</th>\n",
       "      <td>alhic1901</td>\n",
       "      <td>cmc1</td>\n",
       "      <td>228_4</td>\n",
       "      <td>l</td>\n",
       "      <td>AC</td>\n",
       "      <td>[5.800000000000004, 5.800000000000004, 5.0, 10...</td>\n",
       "      <td>[0.18972239489994255, 0.20872705462262367, 0.2...</td>\n",
       "      <td>[]</td>\n",
       "      <td>[[0.5763389003546153, 0.7149567736661093, 0.69...</td>\n",
       "    </tr>\n",
       "    <tr>\n",
       "      <th>4</th>\n",
       "      <td>alhic1901</td>\n",
       "      <td>cmc1</td>\n",
       "      <td>228_4</td>\n",
       "      <td>l</td>\n",
       "      <td>DC</td>\n",
       "      <td>[5.0, -0.3999999999999986, 2.6000000000000014,...</td>\n",
       "      <td>[0.1733425787617329, 0.1752404662106158, 0.170...</td>\n",
       "      <td>[]</td>\n",
       "      <td>[[0.4491052645506376, 0.5721835996477604, 0.46...</td>\n",
       "    </tr>\n",
       "  </tbody>\n",
       "</table>\n",
       "</div>"
      ],
      "text/plain": [
       "        core  time section face ACorDC  \\\n",
       "0  alhic1901  cmc1   230_4    t     DC   \n",
       "1  alhic1901  cmc1   230_4    l     DC   \n",
       "2  alhic1901  cmc1   228_4    t     DC   \n",
       "3  alhic1901  cmc1   228_4    l     AC   \n",
       "4  alhic1901  cmc1   228_4    l     DC   \n",
       "\n",
       "                                               angle  \\\n",
       "0  [37.0, -4.399999999999999, -0.1999999999999957...   \n",
       "1  [55.0, -19.0, -2.0, 38.60000000000001, 29.0, 2...   \n",
       "2  [4.400000000000006, -4.399999999999999, -14.59...   \n",
       "3  [5.800000000000004, 5.800000000000004, 5.0, 10...   \n",
       "4  [5.0, -0.3999999999999986, 2.6000000000000014,...   \n",
       "\n",
       "                                               score length  \\\n",
       "0  [0.0744255528371454, 0.06784602099695096, 0.07...     []   \n",
       "1  [0.10215207000362973, 0.09886650471160678, 0.1...     []   \n",
       "2  [0.126446898004823, 0.1312870232473385, 0.1293...     []   \n",
       "3  [0.18972239489994255, 0.20872705462262367, 0.2...     []   \n",
       "4  [0.1733425787617329, 0.1752404662106158, 0.170...     []   \n",
       "\n",
       "                                          all_scores  \n",
       "0  [[0.07711514905734641, -0.04004410152153174, -...  \n",
       "1  [[-0.12936020123921624, 0.5960439633189245, 0....  \n",
       "2  [[0.7632054390728512, 0.7527185607123529, 0.83...  \n",
       "3  [[0.5763389003546153, 0.7149567736661093, 0.69...  \n",
       "4  [[0.4491052645506376, 0.5721835996477604, 0.46...  "
      ]
     },
     "execution_count": 92,
     "metadata": {},
     "output_type": "execute_result"
    }
   ],
   "source": [
    "# Save the results\n",
    "\n",
    "# Set up a df to store the results\n",
    "face_df = meta.drop(columns=['Y_left', 'Y_right','AC_edgespace','DC_edgespace']).copy()\n",
    "\n",
    "# save values\n",
    "face_df['angle'] = angles\n",
    "face_df['score'] = scores\n",
    "face_df['length'] = lengths\n",
    "face_df['all_scores'] = all_scores\n",
    "\n",
    "# save the dataframe\n",
    "face_df.head()"
   ]
  },
  {
   "cell_type": "markdown",
   "metadata": {},
   "source": [
    "## Diagnostic Plot\n",
    "\n",
    "Shows the correlation strength as a function of angle for each track. Saves plot, and picks out a couple to show here."
   ]
  },
  {
   "cell_type": "code",
   "execution_count": 96,
   "metadata": {},
   "outputs": [
    {
     "data": {
      "text/plain": [
       "<Figure size 640x480 with 0 Axes>"
      ]
     },
     "metadata": {},
     "output_type": "display_data"
    },
    {
     "data": {
      "image/png": "[encoded data removed]",
      "text/plain": [
       "<Figure size 1000x600 with 2 Axes>"
      ]
     },
     "metadata": {},
     "output_type": "display_data"
    },
    {
     "data": {
      "text/plain": [
       "<Figure size 640x480 with 0 Axes>"
      ]
     },
     "metadata": {},
     "output_type": "display_data"
    },
    {
     "data": {
      "image/png": "[encoded data removed]",
      "text/plain": [
       "<Figure size 1000x600 with 2 Axes>"
      ]
     },
     "metadata": {},
     "output_type": "display_data"
    },
    {
     "data": {
      "text/plain": [
       "<Figure size 640x480 with 0 Axes>"
      ]
     },
     "metadata": {},
     "output_type": "display_data"
    }
   ],
   "source": [
    "# loop through rows of face_df\n",
    "for idx, row in face_df.iterrows():\n",
    "\n",
    "    all_scores = row['all_scores']\n",
    "\n",
    "    plt.figure(figsize=(10, 6))\n",
    "    plt.pcolormesh(range(all_scores.shape[1]), test_angle, all_scores, cmap='viridis', shading='auto', norm=plt.Normalize(vmin=0.8, vmax=1))\n",
    "    plt.colorbar(label='Score')\n",
    "    plt.title(row['core']+' - '+row['section']+' - '+row['face']+' - '+row['ACorDC'])\n",
    "    plt.xlabel('Track Pair Index')\n",
    "    plt.ylabel('Angle (degrees)')\n",
    "    plt.gca().invert_yaxis()  # Invert y-axis to match the order of test_angle\n",
    "\n",
    "    # Add black dots at the maximum point in each column\n",
    "    max_indices = np.argmax(all_scores, axis=0)\n",
    "    plt.scatter(range(all_scores.shape[1]), test_angle[max_indices], color='black', s=10, label='Max Points')\n",
    "\n",
    "    if row['ACorDC'] == 'AC' and row['face'] == 't':\n",
    "        plt.show()\n",
    "    else:\n",
    "        plt.close()\n",
    "\n",
    "    # Save the figure\n",
    "    plt.savefig(path_to_figures + 'face_diagnostic/'+ row['core']+'-'+row['section']+'-'+row['face']+'-'+row['ACorDC']+'_angle.png', dpi=300)"
   ]
  },
  {
   "cell_type": "markdown",
   "metadata": {},
   "source": [
    "## Compute True Angles"
   ]
  },
  {
   "cell_type": "code",
   "execution_count": null,
   "metadata": {},
   "outputs": [],
   "source": [
    "# Make new dataframe to store final angles"
   ]
  },
  {
   "cell_type": "code",
   "execution_count": null,
   "metadata": {},
   "outputs": [],
   "source": [
    "all_scores"
   ]
  },
  {
   "cell_type": "code",
   "execution_count": null,
   "metadata": {},
   "outputs": [],
   "source": []
  }
 ],
 "metadata": {
  "kernelspec": {
   "display_name": "ecm",
   "language": "python",
   "name": "python3"
  },
  "language_info": {
   "codemirror_mode": {
    "name": "ipython",
    "version": 3
   },
   "file_extension": ".py",
   "mimetype": "text/x-python",
   "name": "python",
   "nbconvert_exporter": "python",
   "pygments_lexer": "ipython3",
   "version": "3.11.4"
  }
 },
 "nbformat": 4,
 "nbformat_minor": 2
}
