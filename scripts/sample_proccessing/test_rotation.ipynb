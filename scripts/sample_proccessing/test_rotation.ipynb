{
 "cells": [
  {
   "cell_type": "code",
   "execution_count": 1,
   "metadata": {},
   "outputs": [
    {
     "name": "stdout",
     "output_type": "stream",
     "text": [
      "Intel MKL WARNING: Support of Intel(R) Streaming SIMD Extensions 4.2 (Intel(R) SSE4.2) enabled only processors has been deprecated. Intel oneAPI Math Kernel Library 2025.0 will require Intel(R) Advanced Vector Extensions (Intel(R) AVX) instructions.\n",
      "Intel MKL WARNING: Support of Intel(R) Streaming SIMD Extensions 4.2 (Intel(R) SSE4.2) enabled only processors has been deprecated. Intel oneAPI Math Kernel Library 2025.0 will require Intel(R) Advanced Vector Extensions (Intel(R) AVX) instructions.\n"
     ]
    }
   ],
   "source": [
    "# Load packages\n",
    "\n",
    "import os\n",
    "os.environ['MKL_SERVICE_FORCE_INTEL'] = '1'\n",
    "\n",
    "# general\n",
    "import numpy as np\n",
    "import matplotlib.pyplot as plt\n",
    "import pandas as pd\n",
    "from tqdm import tqdm\n",
    "\n",
    "# math\n",
    "from scipy.stats import pearsonr\n",
    "import math\n",
    "\n",
    "# my functions/classes\n",
    "import sys\n",
    "sys.path.append(\"../core_scripts/\")\n",
    "from ECMclass import ECM\n"
   ]
  },
  {
   "cell_type": "markdown",
   "metadata": {},
   "source": [
    "## Setup"
   ]
  },
  {
   "cell_type": "code",
   "execution_count": 5,
   "metadata": {},
   "outputs": [],
   "source": [
    "# Set filepaths\n",
    "\n",
    "path_to_data = '../../data/ecm/'\n",
    "path_to_angles = '../../data/angles/'\n",
    "path_to_figures = '../../../figures/angles/'"
   ]
  },
  {
   "cell_type": "code",
   "execution_count": 6,
   "metadata": {},
   "outputs": [],
   "source": [
    "# smoothing window\n",
    "window = 1"
   ]
  },
  {
   "cell_type": "code",
   "execution_count": 7,
   "metadata": {},
   "outputs": [
    {
     "data": {
      "text/html": [
       "<div>\n",
       "<style scoped>\n",
       "    .dataframe tbody tr th:only-of-type {\n",
       "        vertical-align: middle;\n",
       "    }\n",
       "\n",
       "    .dataframe tbody tr th {\n",
       "        vertical-align: top;\n",
       "    }\n",
       "\n",
       "    .dataframe thead th {\n",
       "        text-align: right;\n",
       "    }\n",
       "</style>\n",
       "<table border=\"1\" class=\"dataframe\">\n",
       "  <thead>\n",
       "    <tr style=\"text-align: right;\">\n",
       "      <th></th>\n",
       "      <th>core</th>\n",
       "      <th>time</th>\n",
       "      <th>section</th>\n",
       "      <th>face</th>\n",
       "      <th>ACorDC</th>\n",
       "      <th>Y_left</th>\n",
       "      <th>Y_right</th>\n",
       "      <th>AC_edgespace</th>\n",
       "      <th>DC_edgespace</th>\n",
       "    </tr>\n",
       "  </thead>\n",
       "  <tbody>\n",
       "    <tr>\n",
       "      <th>0</th>\n",
       "      <td>alhic1901</td>\n",
       "      <td>cmc1</td>\n",
       "      <td>230_4</td>\n",
       "      <td>t</td>\n",
       "      <td>DC</td>\n",
       "      <td>-5.080</td>\n",
       "      <td>206.763</td>\n",
       "      <td>15</td>\n",
       "      <td>10</td>\n",
       "    </tr>\n",
       "    <tr>\n",
       "      <th>1</th>\n",
       "      <td>alhic1901</td>\n",
       "      <td>cmc1</td>\n",
       "      <td>230_4</td>\n",
       "      <td>l</td>\n",
       "      <td>DC</td>\n",
       "      <td>70.404</td>\n",
       "      <td>170.096</td>\n",
       "      <td>15</td>\n",
       "      <td>10</td>\n",
       "    </tr>\n",
       "    <tr>\n",
       "      <th>2</th>\n",
       "      <td>alhic1901</td>\n",
       "      <td>cmc1</td>\n",
       "      <td>228_4</td>\n",
       "      <td>t</td>\n",
       "      <td>DC</td>\n",
       "      <td>-10.000</td>\n",
       "      <td>192.000</td>\n",
       "      <td>15</td>\n",
       "      <td>10</td>\n",
       "    </tr>\n",
       "    <tr>\n",
       "      <th>3</th>\n",
       "      <td>alhic1901</td>\n",
       "      <td>cmc1</td>\n",
       "      <td>228_4</td>\n",
       "      <td>l</td>\n",
       "      <td>AC</td>\n",
       "      <td>63.881</td>\n",
       "      <td>166.250</td>\n",
       "      <td>15</td>\n",
       "      <td>10</td>\n",
       "    </tr>\n",
       "    <tr>\n",
       "      <th>4</th>\n",
       "      <td>alhic1901</td>\n",
       "      <td>cmc1</td>\n",
       "      <td>228_4</td>\n",
       "      <td>l</td>\n",
       "      <td>DC</td>\n",
       "      <td>65.891</td>\n",
       "      <td>149.177</td>\n",
       "      <td>15</td>\n",
       "      <td>10</td>\n",
       "    </tr>\n",
       "  </tbody>\n",
       "</table>\n",
       "</div>"
      ],
      "text/plain": [
       "        core  time section face ACorDC  Y_left  Y_right  AC_edgespace  \\\n",
       "0  alhic1901  cmc1   230_4    t     DC  -5.080  206.763            15   \n",
       "1  alhic1901  cmc1   230_4    l     DC  70.404  170.096            15   \n",
       "2  alhic1901  cmc1   228_4    t     DC -10.000  192.000            15   \n",
       "3  alhic1901  cmc1   228_4    l     AC  63.881  166.250            15   \n",
       "4  alhic1901  cmc1   228_4    l     DC  65.891  149.177            15   \n",
       "\n",
       "   DC_edgespace  \n",
       "0            10  \n",
       "1            10  \n",
       "2            10  \n",
       "3            10  \n",
       "4            10  "
      ]
     },
     "execution_count": 7,
     "metadata": {},
     "output_type": "execute_result"
    }
   ],
   "source": [
    "# Load metadata\n",
    "meta = pd.read_csv(path_to_data + 'metadata.csv')\n",
    "meta.head()\n"
   ]
  },
  {
   "cell_type": "code",
   "execution_count": 8,
   "metadata": {},
   "outputs": [
    {
     "name": "stderr",
     "output_type": "stream",
     "text": [
      "Processing data:   8%|▊         | 1/13 [00:00<00:02,  4.65it/s]"
     ]
    },
    {
     "name": "stdout",
     "output_type": "stream",
     "text": [
      "Reading alhic1901, section 230_4-t-DC\n"
     ]
    },
    {
     "name": "stderr",
     "output_type": "stream",
     "text": [
      "Processing data:  15%|█▌        | 2/13 [00:00<00:01,  6.75it/s]"
     ]
    },
    {
     "name": "stdout",
     "output_type": "stream",
     "text": [
      "Reading alhic1901, section 230_4-l-DC\n",
      "Reading alhic1901, section 228_4-t-DC\n"
     ]
    },
    {
     "name": "stderr",
     "output_type": "stream",
     "text": [
      "Processing data:  31%|███       | 4/13 [00:00<00:01,  5.55it/s]"
     ]
    },
    {
     "name": "stdout",
     "output_type": "stream",
     "text": [
      "Reading alhic1901, section 228_4-l-AC\n",
      "Reading alhic1901, section 228_4-l-DC\n"
     ]
    },
    {
     "name": "stderr",
     "output_type": "stream",
     "text": [
      "Processing data:  38%|███▊      | 5/13 [00:00<00:01,  6.46it/s]"
     ]
    },
    {
     "name": "stdout",
     "output_type": "stream",
     "text": [
      "Reading alhic1901, section 230_4-l-AC\n"
     ]
    },
    {
     "name": "stderr",
     "output_type": "stream",
     "text": [
      "Processing data:  46%|████▌     | 6/13 [00:01<00:01,  5.04it/s]"
     ]
    },
    {
     "name": "stdout",
     "output_type": "stream",
     "text": [
      "Reading alhic1901, section 230_4-t-AC\n"
     ]
    },
    {
     "name": "stderr",
     "output_type": "stream",
     "text": [
      "Processing data:  62%|██████▏   | 8/13 [00:02<00:01,  3.17it/s]"
     ]
    },
    {
     "name": "stdout",
     "output_type": "stream",
     "text": [
      "Reading alhic1901, section 230_4-r-DC\n",
      "Reading alhic1901, section 230_4-r-AC\n"
     ]
    },
    {
     "name": "stderr",
     "output_type": "stream",
     "text": [
      "Processing data:  69%|██████▉   | 9/13 [00:02<00:01,  3.62it/s]"
     ]
    },
    {
     "name": "stdout",
     "output_type": "stream",
     "text": [
      "Reading alhic1901, section 228_4-r-DC\n",
      "Reading alhic1901, section 228_4-r-AC\n"
     ]
    },
    {
     "name": "stderr",
     "output_type": "stream",
     "text": [
      "Processing data:  85%|████████▍ | 11/13 [00:02<00:00,  4.70it/s]"
     ]
    },
    {
     "name": "stdout",
     "output_type": "stream",
     "text": [
      "Reading alhic1901, section 228_4-o-AC\n"
     ]
    },
    {
     "name": "stderr",
     "output_type": "stream",
     "text": [
      "Processing data:  92%|█████████▏| 12/13 [00:02<00:00,  4.10it/s]"
     ]
    },
    {
     "name": "stdout",
     "output_type": "stream",
     "text": [
      "Reading alhic1901, section 228_4-t-AC\n"
     ]
    },
    {
     "name": "stderr",
     "output_type": "stream",
     "text": [
      "Processing data: 100%|██████████| 13/13 [00:03<00:00,  3.91it/s]\n"
     ]
    }
   ],
   "source": [
    "#Load ECM data\n",
    "\n",
    "data = []\n",
    "cores = []\n",
    "sections = []\n",
    "faces = []\n",
    "ACorDCs = []\n",
    "for index, row in tqdm(meta.iterrows(), total=len(meta), desc=\"Processing data\"):\n",
    "    \n",
    "    core = row['core']\n",
    "        \n",
    "    section = row['section']\n",
    "    face = row['face']\n",
    "    ACorDC = row['ACorDC']\n",
    "\n",
    "    data_item = ECM(core,section,face,ACorDC)\n",
    "    print(\"Reading \"+core+\", section \"+section+'-'+face+'-'+ACorDC)\n",
    "    \n",
    "    data_item.rem_ends(15)\n",
    "    data_item.smooth(window)\n",
    "    data.append(data_item)\n",
    "    data_item.norm_all()\n",
    "    \n",
    "    cores.append(core)\n",
    "    sections.append(section)\n",
    "    faces.append(face)\n",
    "    ACorDCs.append(ACorDC)\n"
   ]
  },
  {
   "cell_type": "markdown",
   "metadata": {},
   "source": [
    "## Make a rotated plot of a single dataset\n",
    "\n",
    "let's start with alhic1901 228_4"
   ]
  },
  {
   "cell_type": "code",
   "execution_count": null,
   "metadata": {},
   "outputs": [],
   "source": [
    "# define plotting function\n",
    "def plot_ECM(y_vec,ycor,d,meas,button,axs,rescale,angle,face,res):\n",
    "\n",
    "    y_vec = data.y_vec\n",
    "    ycor = data.y\n",
    "    d = data.depth\n",
    "    meas = data.meas\n",
    "    button = data.button\n",
    "\n",
    "    ACpltmin = np.percentile(meas,5)\n",
    "    ACpltmax = np.percentile(meas,95)\n",
    "    rescale = lambda k: (k-ACpltmin) /  (ACpltmax-ACpltmin)\n",
    "\n",
    "    \n",
    "    # calculate track width (for plotting)\n",
    "    width = y_vec[1] - y_vec[0]\n",
    "\n",
    "    for y in y_vec:\n",
    "        \n",
    "        # Pull out data for this track\n",
    "        idx = ycor==y\n",
    "        tmeas = meas[idx]\n",
    "        tbut = button[idx]\n",
    "        td = d[idx]\n",
    "\n",
    "        # downsample ECM to save plotting time (as needed)\n",
    "        if res != 0:\n",
    "            int_lo = round(min(td),2)\n",
    "            int_hi = round(max(td),2)\n",
    "            depth_interp = np.linspace(int_lo,int_hi,int((int_hi-int_lo)/res)+1)\n",
    "            meas_interp = np.interp(depth_interp,np.flip(td),np.flip(tmeas))\n",
    "            but_interp = np.interp(depth_interp,np.flip(td),np.flip(tbut))\n",
    "            td = depth_interp\n",
    "            tmeas = meas_interp\n",
    "            tbut = np.round(but_interp)\n",
    "\n",
    "        offset = y - (max(y_vec)+min(y_vec))/2\n",
    "\n",
    "        cor = offset/1000 * np.tan(angle*np.pi/180)\n",
    "        td = td + cor\n",
    "        \n",
    "        for i in range(len(tmeas)-1):\n",
    "            \n",
    "            if tbut[i] == 0:\n",
    "                axs.add_patch(Rectangle((y-(width-0.2)/2,td[i]),(width-0.2),td[i+1]-td[i],facecolor=my_cmap(rescale(tmeas[i]))))\n",
    "            else:\n",
    "                axs.add_patch(Rectangle((y-(width-0.2)/2,td[i]),(width-0.2),td[i+1]-td[i],facecolor=my_cmap(rescale(tmeas[i]))))\n",
    "            \n",
    "    return()"
   ]
  },
  {
   "cell_type": "code",
   "execution_count": null,
   "metadata": {},
   "outputs": [],
   "source": []
  },
  {
   "cell_type": "code",
   "execution_count": null,
   "metadata": {},
   "outputs": [],
   "source": []
  }
 ],
 "metadata": {
  "kernelspec": {
   "display_name": "ecm",
   "language": "python",
   "name": "python3"
  },
  "language_info": {
   "codemirror_mode": {
    "name": "ipython",
    "version": 3
   },
   "file_extension": ".py",
   "mimetype": "text/x-python",
   "name": "python",
   "nbconvert_exporter": "python",
   "pygments_lexer": "ipython3",
   "version": "3.11.4"
  }
 },
 "nbformat": 4,
 "nbformat_minor": 2
}
